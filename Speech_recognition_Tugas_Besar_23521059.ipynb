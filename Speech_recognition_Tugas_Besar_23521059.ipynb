{
  "nbformat": 4,
  "nbformat_minor": 0,
  "metadata": {
    "colab": {
      "name": "Speech recognition - Tugas Besar - 23521059.ipynb",
      "provenance": [],
      "collapsed_sections": [],
      "authorship_tag": "ABX9TyMiHoESjQG+nxnbeJr90yJv",
      "include_colab_link": true
    },
    "kernelspec": {
      "name": "python3",
      "display_name": "Python 3"
    },
    "language_info": {
      "name": "python"
    }
  },
  "cells": [
    {
      "cell_type": "markdown",
      "metadata": {
        "id": "view-in-github",
        "colab_type": "text"
      },
      "source": [
        "<a href=\"https://colab.research.google.com/github/jalalAzhmatkhan/pattern-recognition/blob/tugas-besar-final/Speech_recognition_Tugas_Besar_23521059.ipynb\" target=\"_parent\"><img src=\"https://colab.research.google.com/assets/colab-badge.svg\" alt=\"Open In Colab\"/></a>"
      ]
    },
    {
      "cell_type": "code",
      "metadata": {
        "id": "uWdtoRY3spU5"
      },
      "source": [
        "#Nama: Jalaluddin Al Mursyidy Fadhlurrahman\n",
        "#NIM: 23521059\n",
        "\n",
        "#No. 1\n",
        "#Dataset yang dipakai adalah kumpulan rekaman pengucapan 1 kata dalam bahasa Inggris yang diperoleh dari\n",
        "#TensorFlow (Speech Commands dataset)\n",
        "#Dataset ini memiliki 105.829 pengucapan dari 2.618 orang yang mengucapkan 35 kata. Setiap pengucapan selama 1 detik disimpan sebagai file berformat WAV dengan sampling rate 16 kHz.\n",
        "#\n",
        "#Pada konvolusi temporal yang digunakan oleh Choi et al [1], digunakan TC-ResNet yang merupakan convolutional neural network yang cepat dan akurat untuk kebutuhan keyword spotting \n",
        "#(KWS) pada telepon genggam. Pada penelitian ini, digunakan kernel m x 1 (m = 3 untuk layer pertama, dan m = 9 untuk layer lainnya), alih-alih menggunakan kernel 3x3. Semua layer\n",
        "#convolution dan layer fully connected tidak memiliki bias, dan setiap batch normalization layer memiliki parameter-parameter yang dapat dilatih untuk scaling dan shifting. Peneliti\n",
        "#menggunakan layer Conv-BN-ReLU ketika stride = 1, dan tambahan Conv-BN-ReLU ketika stride = 2. Peneliti menggunakan TC-ResNet8 yang memiliki 3 residual blocks dan {16, 24, 32, 48} \n",
        "#channel pada tiap-tiap layer, termasuk convolutional layer pertama sebagai base model.\n",
        "#\n",
        "#Gouda et al [2] dalam penelitiannya menggunakan Convolutional Neural Network (CNN) untuk Speech Recognition. Model yang digunakan pada section preprocessing mirip dengan model yang\n",
        "#bernama \"cnn-one-fstride4\"[3], akan tetapi filter size yang digunakan adalah 7, stride 3, channels 3, dense 100, dan 63.800 parameter. Deskripsi desain model yang dipakai adalah:\n",
        "#convolutional layer dengan non-linearitas, fully connected feed forward layer tanpa non-linearitas, fully connected forward layer dengan non-linearitas, dan softmax output layer.\n",
        "#\n",
        "#MatchBoxNet, sebuah deep residual network yang terdiri dari block-block 1D time-channel sparable convolution, batch-normalization, ReLU, dan dropout layer, digunakan oleh Majumdar \n",
        "#dan Ginsburg [4] untuk Key Word Spotting (KWS) yang didesain khusus untuk device dengan resource komputasi dan memori rendah. Model MatchboxNet 3x2x64 yang digunakan memiliki B = 3\n",
        "#block, dimana setiap block memiliki R = 2 time-channel separable convolutional sub-blocks dengan C = 64 channels, dan tambahan 4  sub-block: prologue - Conv 1, and epilogue - Conv 2,\n",
        "#Conv3, Conv4. Block Conv1 memiliki 1 block, 1 sub-block, 128 channel output, dan 11 kernel. Block B1 memiliki 1 block, 2 sub-block, 64 output channel, dan 13 kernel. Block B2 memiliki\n",
        "#1 block, 2 sub-block, 64 output channel, dan 15 kernel. Block B3 memiliki 1 block, 2 sub-block, 64 output channel, dan 17 kernel. Block Conv2 memiliki 1 block, 1 sub-block, 128 output \n",
        "#channel, dan 29 kernel (dilation = 2). Block Conv3 memiliki 1 block, 1 sub-block, 128 output channel, dan 1 kernel. Block Conv4 memiliki 1 block, 1 sub-block, output channel sejumlah kelas,\n",
        "#dan 1 kernel. Terdapat juga block soft-max dan cross-entrophy.\n",
        "\n",
        "#No. 2\n",
        "#\n",
        "\n",
        "#Referensi\n",
        "#[1] Choi, Seungwoo et al. Temporal Convolution for Real-time Keyword Spotting on Mobile Devices. 2019. arXiv: 1904.03814v2[cs.SD].\n",
        "#[2] Gouda, Sanjay et al. Speech Recognition: Key Word Spotting through Image Recognition. 2020. arXiv: 1803.03759v1 [stat.ML].\n",
        "#[3] Sainath, Tara N. and Parada, Carolina. Convolutional Neural Network for Small-footprint Keyword Spotting. 2015. Google Inc.\n",
        "#[4] Majumdar, Somshubra and Ginsburg, Boris. MatchboxNet: 1D Time-Channel Separable Convolutional Neural Network Architecture for Speech Commands Recognition. 2020. arXiv: 2004.08531v2."
      ],
      "execution_count": null,
      "outputs": []
    }
  ]
}